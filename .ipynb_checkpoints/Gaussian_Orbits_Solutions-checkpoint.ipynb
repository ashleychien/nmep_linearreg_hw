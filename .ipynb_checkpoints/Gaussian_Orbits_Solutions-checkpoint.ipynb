{
 "cells": [
  {
   "cell_type": "markdown",
   "metadata": {},
   "source": [
    "# Gaussian Orbits\n",
    "\n",
    "In this homework, we will use linear regression methods in order to determine the orbits of heavenly bodies.\n",
    "\n",
    "### 0. Import a bunch of stuff!\n",
    "\n",
    "Imports needed in this notebook: `numpy`, `matplotlib.pyplot`, from sklearn: `LinearRegression`, `ElasticNet`, and `mean_squared_error`"
   ]
  },
  {
   "cell_type": "code",
   "execution_count": 11,
   "metadata": {
    "collapsed": true
   },
   "outputs": [],
   "source": [
    "import numpy as np\n",
    "import matplotlib.pyplot as plt\n",
    "from sklearn.linear_model import LinearRegression, ElasticNet\n",
    "from sklearn.metrics import mean_squared_error"
   ]
  },
  {
   "cell_type": "markdown",
   "metadata": {},
   "source": [
    "### 1. Load in the data found in files `x.npy` and `y.npy`. \n",
    "\n",
    "Hint: `np.load`."
   ]
  },
  {
   "cell_type": "code",
   "execution_count": 3,
   "metadata": {},
   "outputs": [],
   "source": [
    "x = np.load('x.npy')\n",
    "y = np.load('y.npy')"
   ]
  },
  {
   "cell_type": "markdown",
   "metadata": {},
   "source": [
    "### 2. Use sklearn's LinearRegression\n",
    "\n",
    "Without creating any features, try to fit a `LinearRegression` model to `x` and `y`. Print out the `mean_squared_error` you get.\n",
    "\n",
    "Hint: You may get an error the first time you try to fit your model."
   ]
  },
  {
   "cell_type": "code",
   "execution_count": 13,
   "metadata": {},
   "outputs": [
    {
     "data": {
      "text/plain": [
       "0.65684799163192864"
      ]
     },
     "execution_count": 13,
     "metadata": {},
     "output_type": "execute_result"
    }
   ],
   "source": [
    "model = LinearRegression()\n",
    "model.fit(x.reshape(-1, 1), y)\n",
    "predictions = model.predict(x.reshape(-1, 1))\n",
    "mean_squared_error(y, predictions)"
   ]
  },
  {
   "cell_type": "markdown",
   "metadata": {},
   "source": [
    "### 3. Experimentation time!\n",
    "\n",
    "Try adding new features to your linear model by manipulating `x` and `y`! Print out the MSE of your model!\n",
    "\n",
    "Hint: `np.vstack` may be useful here."
   ]
  },
  {
   "cell_type": "code",
   "execution_count": 18,
   "metadata": {},
   "outputs": [
    {
     "data": {
      "text/plain": [
       "0.64761521555494883"
      ]
     },
     "execution_count": 18,
     "metadata": {},
     "output_type": "execute_result"
    }
   ],
   "source": [
    "x2 = np.square(x)\n",
    "x3 = x ** 3\n",
    "X = np.vstack([x2, x3]).T\n",
    "\n",
    "model_2 = LinearRegression()\n",
    "model_2.fit(X, y)\n",
    "predictions_2 = model_2.predict(X)\n",
    "mean_squared_error(y, predictions_2)"
   ]
  },
  {
   "cell_type": "markdown",
   "metadata": {},
   "source": [
    "### 4. Fit a great model to our data!\n",
    "\n",
    "Here's the secret: the `x` and `y` values we gave you are actually from an ellipse! Thinking about the form of an ellipse, fit a great model to our data :D Print out the MSE as usual.\n",
    "\n",
    "Hint: Think about the features you need. (6 total)\n",
    "\n",
    "Hint2: A common tactic is to add a column of all ones in order to add a bias term to your model.\n",
    "\n",
    "Hint3: Use the normal equation instead of sklearn.\n",
    "\n",
    "Hint4: `np` functions that we used (you may use some of these or none at all!):\n",
    "\n",
    "- `np.linalg.inv`\n",
    "- `np.dot`\n",
    "- `np.eye`\n",
    "- `np.ones`\n",
    "- `np.square`\n",
    "- `np.vstack`\n",
    "\n",
    "Hint5: You may need to add an identity matrix (using `np.eye`) if all coefficients are 0."
   ]
  },
  {
   "cell_type": "code",
   "execution_count": 19,
   "metadata": {},
   "outputs": [
    {
     "name": "stdout",
     "output_type": "stream",
     "text": [
      "MSE: 0.26192231124710463\n"
     ]
    }
   ],
   "source": [
    "# Features\n",
    "x2 = np.square(x)\n",
    "y2 = np.square(y)\n",
    "xy = x*y\n",
    "ones = np.ones(x.shape[0])\n",
    "X = np.vstack([x2,xy,y2,x,y,ones]).T\n",
    "\n",
    "# Solve [General Form] = 1\n",
    "# and eventually subtract 1 from the intercept term\n",
    "proj = np.linalg.inv(np.dot(X.T,X) + np.eye(6))\n",
    "coeff = np.dot(np.dot(proj,X.T),ones)\n",
    "print('MSE: {}'.format(np.linalg.norm(np.dot(X, coeff) - ones)))"
   ]
  },
  {
   "cell_type": "markdown",
   "metadata": {},
   "source": [
    "### 5. Evaluate your model!\n",
    "\n",
    "Have the coefficients in a list/np.array of size 6 called `coeff`. Run the code block below. If you see an ellipse of blue points with a black outline, you've done it! If not, go back to step 4 and keep improving your model! You got this :D"
   ]
  },
  {
   "cell_type": "code",
   "execution_count": 20,
   "metadata": {},
   "outputs": [
    {
     "data": {
      "image/png": "[encoded data removed]",
      "text/plain": [
       "<matplotlib.figure.Figure at 0x1c92253e668>"
      ]
     },
     "metadata": {},
     "output_type": "display_data"
    }
   ],
   "source": [
    "xv = np.linspace(-9, 9, 400)\n",
    "yv = np.linspace(-5, 5, 400)\n",
    "xv, yv = np.meshgrid(xv, yv)\n",
    "\n",
    "def axes():\n",
    "    plt.axhline(0, alpha=.1)\n",
    "    plt.axvline(0, alpha=.1)\n",
    "\n",
    "axes()\n",
    "plt.contour(xv, yv, xv*xv*coeff[0] + xv*yv*coeff[1] + yv*yv*coeff[2] + xv*coeff[3] + yv*coeff[4] + coeff[5] - 1, [0], colors='k')\n",
    "plt.scatter(x,y)\n",
    "plt.show()"
   ]
  },
  {
   "cell_type": "markdown",
   "metadata": {},
   "source": [
    "### 6. Try other features\n",
    "\n",
    "Try adding cubic terms into your model. This time, use `ElasticNet` from sklearn. Print out the model coefficients and the MSE."
   ]
  },
  {
   "cell_type": "code",
   "execution_count": 21,
   "metadata": {},
   "outputs": [
    {
     "name": "stdout",
     "output_type": "stream",
     "text": [
      "[ 0.04470977 -0.0081059   0.0546247  -0.04341558 -0.02384313  0.93154563\n",
      " -0.         -0.         -0.00115408 -0.        ]\n",
      "MSE: 0.18881562800799595\n"
     ]
    }
   ],
   "source": [
    "# features\n",
    "x2 = np.square(x)\n",
    "y2 = np.square(y)\n",
    "x3 = np.power(x, 3)\n",
    "y3 = np.power(y, 3)\n",
    "xxy = np.square(x)*y\n",
    "xyy = np.square(y)*x\n",
    "xy = x*y\n",
    "ones = np.ones(x.shape[0])\n",
    "\n",
    "model = ElasticNet(fit_intercept=False, l1_ratio=.23, alpha=.01)\n",
    "\n",
    "X = np.vstack([x2,xy,y2,x,y,ones, x3,y3,xxy,xyy]).T\n",
    "zeros = np.zeros(x.shape[0])\n",
    "\n",
    "model.fit(X, ones)\n",
    "\n",
    "coeff = model.coef_\n",
    "print(coeff)\n",
    "print('MSE: {}'.format(np.linalg.norm(np.dot(X, coeff) - ones)))"
   ]
  },
  {
   "cell_type": "markdown",
   "metadata": {},
   "source": [
    "### 7. Observations on Coefficients\n",
    "\n",
    "[Free Response] \n",
    "1. What do you notice about your coefficients for this model? \n",
    "2. Why do you think this is the case? \n",
    "3. Why does this model have a lower MSE than our previous one? Does this mean that this is a better model?"
   ]
  },
  {
   "cell_type": "markdown",
   "metadata": {},
   "source": [
    "1. The coefficients for the cubic terms are very close to 0.\n",
    "2. I think this is the case because an ellipse does not actually have any cubic terms in it.\n",
    "3. This model has more expressive power because we gave it more terms and therefore more parameters. No, this is not necessarily a better model because we know the true form of an ellipse does not have any cubic terms in it. This model is probably worse at generalizing but better at fitting the training data."
   ]
  },
  {
   "cell_type": "markdown",
   "metadata": {},
   "source": [
    "### 8. Evaluate this model!\n",
    "\n",
    "Run this code block below. This code block assumes that you have an array called `coeff` which has  10 elements."
   ]
  },
  {
   "cell_type": "code",
   "execution_count": 22,
   "metadata": {},
   "outputs": [
    {
     "data": {
      "image/png": "[encoded data removed]",
      "text/plain": [
       "<matplotlib.figure.Figure at 0x1c92250c470>"
      ]
     },
     "metadata": {},
     "output_type": "display_data"
    }
   ],
   "source": [
    "xv = np.linspace(-9, 9, 400)\n",
    "yv = np.linspace(-5, 5, 400)\n",
    "xv, yv = np.meshgrid(xv, yv)\n",
    "\n",
    "def axes():\n",
    "    plt.axhline(0, alpha=.1)\n",
    "    plt.axvline(0, alpha=.1)\n",
    "\n",
    "axes()\n",
    "plt.contour(xv, yv, xv*xv*coeff[0] + xv*yv*coeff[1] + yv*yv*coeff[2] + xv*coeff[3] + yv*coeff[4] + coeff[5] - 1 + coeff[6]*xv*xv*xv + coeff[7]*yv*yv*yv + coeff[8]*xv*xv*yv + coeff[9]*xv*yv*yv , [0], colors='k')\n",
    "plt.scatter(x,y)\n",
    "plt.show()"
   ]
  }
 ],
 "metadata": {
  "kernelspec": {
   "display_name": "Python 3",
   "language": "python",
   "name": "python3"
  },
  "language_info": {
   "codemirror_mode": {
    "name": "ipython",
    "version": 3
   },
   "file_extension": ".py",
   "mimetype": "text/x-python",
   "name": "python",
   "nbconvert_exporter": "python",
   "pygments_lexer": "ipython3",
   "version": "3.6.3"
  }
 },
 "nbformat": 4,
 "nbformat_minor": 2
}
