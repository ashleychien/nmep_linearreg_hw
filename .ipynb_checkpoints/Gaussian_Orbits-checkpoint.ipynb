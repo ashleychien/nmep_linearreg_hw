{
 "cells": [
  {
   "cell_type": "markdown",
   "metadata": {},
   "source": [
    "# Gaussian Orbits\n",
    "\n",
    "In this homework, we will use linear regression methods in order to determine the orbits of heavenly bodies.\n",
    "\n",
    "### 0. Import a bunch of stuff!\n",
    "\n",
    "Imports needed in this notebook: `numpy`, `matplotlib.pyplot`, from sklearn: `LinearRegression`, `ElasticNet`, and `mean_squared_error`"
   ]
  },
  {
   "cell_type": "code",
   "execution_count": 1,
   "metadata": {
    "collapsed": true
   },
   "outputs": [],
   "source": [
    "### YOUR CODE HERE"
   ]
  },
  {
   "cell_type": "markdown",
   "metadata": {},
   "source": [
    "### 1. Load in the data found in files `x.npy` and `y.npy`. \n",
    "\n",
    "Hint: `np.load`."
   ]
  },
  {
   "cell_type": "code",
   "execution_count": 2,
   "metadata": {
    "collapsed": true
   },
   "outputs": [],
   "source": [
    "### YOUR CODE HERE"
   ]
  },
  {
   "cell_type": "markdown",
   "metadata": {},
   "source": [
    "### 2. Use sklearn's LinearRegression\n",
    "\n",
    "Without creating any features, try to fit a `LinearRegression` model to `x` and `y`. Print out the `mean_squared_error` you get.\n",
    "\n",
    "Hint: You may get an error the first time you try to fit your model."
   ]
  },
  {
   "cell_type": "code",
   "execution_count": 3,
   "metadata": {},
   "outputs": [],
   "source": [
    "### YOUR CODE HERE"
   ]
  },
  {
   "cell_type": "markdown",
   "metadata": {},
   "source": [
    "### 3. Experimentation time!\n",
    "\n",
    "Try adding new features to your linear model by manipulating `x` and `y`! Print out the MSE of your model!\n",
    "\n",
    "Hint: `np.vstack` may be useful here."
   ]
  },
  {
   "cell_type": "code",
   "execution_count": 4,
   "metadata": {},
   "outputs": [],
   "source": [
    "### YOUR CODE HERE"
   ]
  },
  {
   "cell_type": "markdown",
   "metadata": {},
   "source": [
    "### 4. Fit a great model to our data!\n",
    "\n",
    "Here's the secret: the `x` and `y` values we gave you are actually from an ellipse! Thinking about the form of an ellipse, fit a great model to our data :D Print out the MSE as usual.\n",
    "\n",
    "Hint: Think about the features you need. (6 total)\n",
    "\n",
    "Hint2: A common tactic is to add a column of all ones in order to add a bias term to your model.\n",
    "\n",
    "Hint3: Use the normal equation instead of sklearn.\n",
    "\n",
    "Hint4: `np` functions that we used (you may use some of these or none at all!):\n",
    "\n",
    "- `np.linalg.inv`\n",
    "- `np.dot`\n",
    "- `np.eye`\n",
    "- `np.ones`\n",
    "- `np.square`\n",
    "- `np.vstack`\n",
    "\n",
    "Hint5: You may need to add an identity matrix (using `np.eye`) if all coefficients are 0."
   ]
  },
  {
   "cell_type": "code",
   "execution_count": 5,
   "metadata": {},
   "outputs": [],
   "source": [
    "### YOUR CODE HERE"
   ]
  },
  {
   "cell_type": "markdown",
   "metadata": {},
   "source": [
    "### 5. Evaluate your model!\n",
    "\n",
    "Have the coefficients in a list/np.array of size 6 called `coeff`. Run the code block below. If you see an ellipse of blue points with a black outline, you've done it! If not, go back to step 4 and keep improving your model! You got this :D"
   ]
  },
  {
   "cell_type": "code",
   "execution_count": 6,
   "metadata": {},
   "outputs": [],
   "source": [
    "### YOUR CODE HERE"
   ]
  },
  {
   "cell_type": "markdown",
   "metadata": {},
   "source": [
    "### 6. Try other features\n",
    "\n",
    "Try adding cubic terms into your model. This time, use `ElasticNet` from sklearn. Print out the model coefficients and the MSE."
   ]
  },
  {
   "cell_type": "code",
   "execution_count": 7,
   "metadata": {},
   "outputs": [],
   "source": [
    "### YOUR CODE HERE"
   ]
  },
  {
   "cell_type": "markdown",
   "metadata": {},
   "source": [
    "### 7. Observations on Coefficients\n",
    "\n",
    "[Free Response] \n",
    "1. What do you notice about your coefficients for this model? \n",
    "2. Why do you think this is the case? \n",
    "3. Why does this model have a lower MSE than our previous one? Does this mean that this is a better model?"
   ]
  },
  {
   "cell_type": "markdown",
   "metadata": {},
   "source": [
    "1. YOUR ANSWER HERE\n",
    "2. YOUR ANSWER HERE\n",
    "3. YOUR ANSWER HERE"
   ]
  },
  {
   "cell_type": "markdown",
   "metadata": {},
   "source": [
    "### 8. Evaluate this model!\n",
    "\n",
    "Run this code block below. This code block assumes that you have an array called `coeff` which has  10 elements."
   ]
  },
  {
   "cell_type": "code",
   "execution_count": 8,
   "metadata": {},
   "outputs": [],
   "source": [
    "### YOUR CODE HERE"
   ]
  },
  {
   "cell_type": "code",
   "execution_count": null,
   "metadata": {
    "collapsed": true
   },
   "outputs": [],
   "source": []
  }
 ],
 "metadata": {
  "kernelspec": {
   "display_name": "Python 3",
   "language": "python",
   "name": "python3"
  },
  "language_info": {
   "codemirror_mode": {
    "name": "ipython",
    "version": 3
   },
   "file_extension": ".py",
   "mimetype": "text/x-python",
   "name": "python",
   "nbconvert_exporter": "python",
   "pygments_lexer": "ipython3",
   "version": "3.6.3"
  }
 },
 "nbformat": 4,
 "nbformat_minor": 2
}
